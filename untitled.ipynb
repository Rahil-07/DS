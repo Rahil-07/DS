{
 "cells": [
  {
   "cell_type": "code",
   "execution_count": 20,
   "metadata": {},
   "outputs": [],
   "source": [
    "class Node:\n",
    "    def __init__(self,data):\n",
    "        self.data = data\n",
    "        self.next = None\n",
    "\n",
    "class LinkedList:\n",
    "    def __init__(self):\n",
    "        self.head = None\n",
    "\n",
    "    def insert_at_beg(self,data):\n",
    "        node = Node(data)\n",
    "        # if self.head == None:\n",
    "        #     self.head = node\n",
    "        node.next = self.head\n",
    "        self.head = node\n",
    "    \n",
    "    def insert_after_node(self,previous,data):\n",
    "        node = Node(data)\n",
    "        after_node = self.head\n",
    "        while after_node.data != previous:\n",
    "            after_node = after_node.next\n",
    "        \n",
    "        node.next = after_node.next\n",
    "        after_node.next = node\n",
    "    \n",
    "    def insert_at_end(self,data):\n",
    "        node = Node(data)\n",
    "        if self.head == None:\n",
    "            self.head = node\n",
    "            return 0\n",
    "        \n",
    "        last = self.head\n",
    "        while(last.next):\n",
    "            last = last.next\n",
    "        \n",
    "        last.next = node\n",
    "    \n",
    "    def delete_at_beg(self):\n",
    "        if self.head == None:\n",
    "            print(\"List is already Empty\")\n",
    "        temp = self.head.data\n",
    "        self.head = self.head.next\n",
    "        return temp\n",
    "    \n",
    "    def delete_after_node(self,previous):\n",
    "        after_node = self.head\n",
    "        while after_node.data != previous:\n",
    "            after_node = after_node.next\n",
    "            \n",
    "        if after_node.next == None:\n",
    "            print(\"end of list\")\n",
    "        temp = after_node.next.data\n",
    "        after_node.next = after_node.next.next\n",
    "        return temp\n",
    "    \n",
    "    def delete_at_end(self):\n",
    "        if self.head == None:\n",
    "            print(\"LIst is already empty\")\n",
    "        if self.head.next == None:\n",
    "            temp = self.head.data\n",
    "            self.head = None\n",
    "            return temp\n",
    "\n",
    "        last = self.head\n",
    "        while(last.next.next):\n",
    "            last = last.next\n",
    "        temp = last.next.data\n",
    "        last.next = None\n",
    "        return temp\n",
    "\n",
    "    def print_list(self):\n",
    "        if self.head == None:\n",
    "            print(\"List is Empty\")\n",
    "        temp = self.head\n",
    "        while(temp.next):\n",
    "            print(f\"{temp.data}\",end=\" \")\n",
    "            temp = temp.next\n",
    "        print(f\"{temp.data}\")"
   ]
  },
  {
   "cell_type": "code",
   "execution_count": 21,
   "metadata": {},
   "outputs": [],
   "source": [
    "link = LinkedList()"
   ]
  },
  {
   "cell_type": "code",
   "execution_count": 32,
   "metadata": {},
   "outputs": [],
   "source": [
    "link.insert_at_end(3)"
   ]
  },
  {
   "cell_type": "code",
   "execution_count": 34,
   "metadata": {},
   "outputs": [],
   "source": [
    "link.insert_at_beg(0)"
   ]
  },
  {
   "cell_type": "code",
   "execution_count": 37,
   "metadata": {},
   "outputs": [
    {
     "data": {
      "text/plain": [
       "3"
      ]
     },
     "execution_count": 37,
     "metadata": {},
     "output_type": "execute_result"
    }
   ],
   "source": [
    "link.delete_at_end()"
   ]
  },
  {
   "cell_type": "code",
   "execution_count": 38,
   "metadata": {},
   "outputs": [
    {
     "name": "stdout",
     "output_type": "stream",
     "text": [
      "1 2\n"
     ]
    }
   ],
   "source": [
    "link.print_list()"
   ]
  },
  {
   "cell_type": "code",
   "execution_count": 51,
   "metadata": {},
   "outputs": [],
   "source": [
    "class Node:\n",
    "    def __init__(self,data) -> None:\n",
    "        self.data = data\n",
    "        self.next = None\n",
    "\n",
    "class Queue:\n",
    "    def __init__(self) -> None:\n",
    "        self.front = None\n",
    "        self.rear = None\n",
    "    \n",
    "    def insert(self,data):\n",
    "        node = Node(data)\n",
    "        if self.front==None and self.rear==None:\n",
    "            self.front = self.rear = node\n",
    "            return 0\n",
    "        \n",
    "        self.rear.next = node\n",
    "        self.rear = node\n",
    "    \n",
    "    def delete(self):\n",
    "        if self.front == None:\n",
    "            print(\"Queue is Empty\")\n",
    "            return 0\n",
    "        temp = self.front.data\n",
    "        self.front = self.front.next\n",
    "        return temp\n",
    "    \n",
    "    def print_queue(self):\n",
    "        if self.front == None:\n",
    "            print(\"Queue is Empty\")\n",
    "            return 0\n",
    "        temp = self.front\n",
    "        while temp != self.rear:\n",
    "            print(f\"{temp.data}\",end=\" \")\n",
    "            temp =  temp.next\n",
    "        print(f\"{self.rear.data}\")\n"
   ]
  },
  {
   "cell_type": "code",
   "execution_count": 52,
   "metadata": {},
   "outputs": [],
   "source": [
    "q = Queue()"
   ]
  },
  {
   "cell_type": "code",
   "execution_count": 58,
   "metadata": {},
   "outputs": [],
   "source": [
    "q.insert(3)"
   ]
  },
  {
   "cell_type": "code",
   "execution_count": 62,
   "metadata": {},
   "outputs": [
    {
     "data": {
      "text/plain": [
       "2"
      ]
     },
     "execution_count": 62,
     "metadata": {},
     "output_type": "execute_result"
    }
   ],
   "source": [
    "q.delete()"
   ]
  },
  {
   "cell_type": "code",
   "execution_count": 63,
   "metadata": {},
   "outputs": [
    {
     "name": "stdout",
     "output_type": "stream",
     "text": [
      "3 3\n"
     ]
    }
   ],
   "source": [
    "q.print_queue()"
   ]
  },
  {
   "cell_type": "code",
   "execution_count": 2,
   "metadata": {},
   "outputs": [
    {
     "name": "stderr",
     "output_type": "stream",
     "text": [
      "/home/avesta/.local/lib/python3.10/site-packages/langchain_core/_api/deprecation.py:117: LangChainDeprecationWarning: The class `langchain_community.chat_models.openai.ChatOpenAI` was deprecated in langchain-community 0.1.0 and will be removed in 0.2.0. Use langchain_openai.ChatOpenAI instead.\n",
      "  warn_deprecated(\n"
     ]
    },
    {
     "ename": "APIRemovedInV1",
     "evalue": "\n\nYou tried to access openai.ChatCompletion, but this is no longer supported in openai>=1.0.0 - see the README at https://github.com/openai/openai-python for the API.\n\nYou can run `openai migrate` to automatically upgrade your codebase to use the 1.0.0 interface. \n\nAlternatively, you can pin your installation to the old version, e.g. `pip install openai==0.28`\n\nA detailed migration guide is available here: https://github.com/openai/openai-python/discussions/742\n",
     "output_type": "error",
     "traceback": [
      "\u001b[0;31m---------------------------------------------------------------------------\u001b[0m",
      "\u001b[0;31mAPIRemovedInV1\u001b[0m                            Traceback (most recent call last)",
      "Cell \u001b[0;32mIn[2], line 19\u001b[0m\n\u001b[1;32m     16\u001b[0m \u001b[38;5;66;03m# prompt_template = ChatPromptTemplate.from_template(prompt)\u001b[39;00m\n\u001b[1;32m     17\u001b[0m \u001b[38;5;66;03m# res = gpt(prompt_template)\u001b[39;00m\n\u001b[1;32m     18\u001b[0m message \u001b[38;5;241m=\u001b[39m [{\u001b[38;5;124m\"\u001b[39m\u001b[38;5;124mrole\u001b[39m\u001b[38;5;124m\"\u001b[39m: \u001b[38;5;124m\"\u001b[39m\u001b[38;5;124muser\u001b[39m\u001b[38;5;124m\"\u001b[39m, \u001b[38;5;124m\"\u001b[39m\u001b[38;5;124mcontent\u001b[39m\u001b[38;5;124m\"\u001b[39m: prompt}]\n\u001b[0;32m---> 19\u001b[0m response \u001b[38;5;241m=\u001b[39m \u001b[43mopenai\u001b[49m\u001b[38;5;241;43m.\u001b[39;49m\u001b[43mChatCompletion\u001b[49m\u001b[38;5;241;43m.\u001b[39;49m\u001b[43mcreate\u001b[49m\u001b[43m(\u001b[49m\n\u001b[1;32m     20\u001b[0m \u001b[43m    \u001b[49m\u001b[43mmodel\u001b[49m\u001b[38;5;241;43m=\u001b[39;49m\u001b[38;5;124;43m\"\u001b[39;49m\u001b[38;5;124;43mgpt-3.5-turbo\u001b[39;49m\u001b[38;5;124;43m\"\u001b[39;49m\u001b[43m,\u001b[49m\n\u001b[1;32m     21\u001b[0m \u001b[43m    \u001b[49m\u001b[43mmessages\u001b[49m\u001b[38;5;241;43m=\u001b[39;49m\u001b[43mmessage\u001b[49m\u001b[43m,\u001b[49m\n\u001b[1;32m     22\u001b[0m \u001b[43m    \u001b[49m\u001b[43mtemperature\u001b[49m\u001b[38;5;241;43m=\u001b[39;49m\u001b[38;5;241;43m0\u001b[39;49m\u001b[43m,\u001b[49m\u001b[43m \u001b[49m\n\u001b[1;32m     23\u001b[0m \u001b[43m\u001b[49m\u001b[43m)\u001b[49m\n\u001b[1;32m     24\u001b[0m \u001b[38;5;28mprint\u001b[39m(\u001b[38;5;124m'\u001b[39m\u001b[38;5;124mresponse : \u001b[39m\u001b[38;5;124m'\u001b[39m,response[\u001b[38;5;124m'\u001b[39m\u001b[38;5;124mchoices\u001b[39m\u001b[38;5;124m'\u001b[39m][\u001b[38;5;241m0\u001b[39m][\u001b[38;5;124m'\u001b[39m\u001b[38;5;124mmessage\u001b[39m\u001b[38;5;124m'\u001b[39m][\u001b[38;5;124m'\u001b[39m\u001b[38;5;124mcontent\u001b[39m\u001b[38;5;124m'\u001b[39m])\n",
      "File \u001b[0;32m~/.local/lib/python3.10/site-packages/openai/lib/_old_api.py:39\u001b[0m, in \u001b[0;36mAPIRemovedInV1Proxy.__call__\u001b[0;34m(self, *_args, **_kwargs)\u001b[0m\n\u001b[1;32m     38\u001b[0m \u001b[38;5;28;01mdef\u001b[39;00m \u001b[38;5;21m__call__\u001b[39m(\u001b[38;5;28mself\u001b[39m, \u001b[38;5;241m*\u001b[39m_args: Any, \u001b[38;5;241m*\u001b[39m\u001b[38;5;241m*\u001b[39m_kwargs: Any) \u001b[38;5;241m-\u001b[39m\u001b[38;5;241m>\u001b[39m Any:\n\u001b[0;32m---> 39\u001b[0m     \u001b[38;5;28;01mraise\u001b[39;00m APIRemovedInV1(symbol\u001b[38;5;241m=\u001b[39m\u001b[38;5;28mself\u001b[39m\u001b[38;5;241m.\u001b[39m_symbol)\n",
      "\u001b[0;31mAPIRemovedInV1\u001b[0m: \n\nYou tried to access openai.ChatCompletion, but this is no longer supported in openai>=1.0.0 - see the README at https://github.com/openai/openai-python for the API.\n\nYou can run `openai migrate` to automatically upgrade your codebase to use the 1.0.0 interface. \n\nAlternatively, you can pin your installation to the old version, e.g. `pip install openai==0.28`\n\nA detailed migration guide is available here: https://github.com/openai/openai-python/discussions/742\n"
     ]
    }
   ],
   "source": [
    "import os\n",
    "import openai\n",
    "from langchain.chat_models import ChatOpenAI\n",
    "from langchain.prompts import ChatPromptTemplate\n",
    "\n",
    "\n",
    "_ = os.getenv(\"OPENAI_API_KEY\")\n",
    "gpt = ChatOpenAI(temperature=0.0)\n",
    "\n",
    "\n",
    "\n",
    "prompt = ''\n",
    "\n",
    "while(prompt != 'exit' ):\n",
    "    prompt = input('Enter here : ')\n",
    "    # prompt_template = ChatPromptTemplate.from_template(prompt)\n",
    "    # res = gpt(prompt_template)\n",
    "    message = [{\"role\": \"user\", \"content\": prompt}]\n",
    "    response = openai.ChatCompletion.create(\n",
    "        model=\"gpt-3.5-turbo\",\n",
    "        messages=message,\n",
    "        temperature=0, \n",
    "    )\n",
    "    print('response : ',response['choices'][0]['message']['content'])"
   ]
  },
  {
   "cell_type": "code",
   "execution_count": null,
   "metadata": {},
   "outputs": [],
   "source": []
  },
  {
   "cell_type": "code",
   "execution_count": 30,
   "metadata": {},
   "outputs": [],
   "source": [
    "class Node:\n",
    "    def __init__(self,data) -> None:\n",
    "        self.data = data\n",
    "        self.left = None\n",
    "        self.right = None\n",
    "\n",
    "class Tree:\n",
    "\n",
    "    def __init__(self) -> None:\n",
    "        self.root = None\n",
    "    \n",
    "    def insert(self,data):\n",
    "        self.insert_data = data\n",
    "        self.new_node = Node(self.insert_data)\n",
    "        if self.root == None:\n",
    "            self.root = self.new_node\n",
    "        else:\n",
    "            self.insert_at(self.root)\n",
    "        \n",
    "    \n",
    "    def insert_at(self,node):\n",
    "        if self.insert_data <= node.data:\n",
    "            if node.left == None:\n",
    "                node.left = self.new_node\n",
    "            else:\n",
    "                self.insert_at(node.left)\n",
    "        \n",
    "        else:\n",
    "            if node.right == None:\n",
    "                node.right = self.new_node\n",
    "            else:\n",
    "                self.insert_at(node.right)\n",
    "\n",
    "    def inorder(self,node):\n",
    "        if node is None:\n",
    "            return\n",
    "        self.inorder(node.left)\n",
    "        print(f\"{node.data}\",end=\" \")\n",
    "        self.inorder(node.right)"
   ]
  },
  {
   "cell_type": "code",
   "execution_count": 31,
   "metadata": {},
   "outputs": [],
   "source": [
    "t = Tree()"
   ]
  },
  {
   "cell_type": "code",
   "execution_count": 32,
   "metadata": {},
   "outputs": [
    {
     "name": "stdout",
     "output_type": "stream",
     "text": [
      "None\n"
     ]
    }
   ],
   "source": [
    "print(t.root)"
   ]
  },
  {
   "cell_type": "code",
   "execution_count": 33,
   "metadata": {},
   "outputs": [],
   "source": [
    "t.insert(1)"
   ]
  },
  {
   "cell_type": "code",
   "execution_count": 34,
   "metadata": {},
   "outputs": [
    {
     "data": {
      "text/plain": [
       "1"
      ]
     },
     "execution_count": 34,
     "metadata": {},
     "output_type": "execute_result"
    }
   ],
   "source": [
    "t.root.data"
   ]
  },
  {
   "cell_type": "code",
   "execution_count": 36,
   "metadata": {},
   "outputs": [],
   "source": [
    "t.insert(-1)"
   ]
  },
  {
   "cell_type": "code",
   "execution_count": 37,
   "metadata": {},
   "outputs": [
    {
     "name": "stdout",
     "output_type": "stream",
     "text": [
      "-1 1 2 "
     ]
    }
   ],
   "source": [
    "t.inorder(t.root)"
   ]
  },
  {
   "cell_type": "code",
   "execution_count": 38,
   "metadata": {},
   "outputs": [],
   "source": [
    "t.insert(3)"
   ]
  },
  {
   "cell_type": "code",
   "execution_count": 39,
   "metadata": {},
   "outputs": [
    {
     "name": "stdout",
     "output_type": "stream",
     "text": [
      "-1 1 2 3 "
     ]
    }
   ],
   "source": [
    "t.inorder(t.root)"
   ]
  },
  {
   "cell_type": "code",
   "execution_count": null,
   "metadata": {},
   "outputs": [],
   "source": []
  }
 ],
 "metadata": {
  "kernelspec": {
   "display_name": "Python 3",
   "language": "python",
   "name": "python3"
  },
  "language_info": {
   "codemirror_mode": {
    "name": "ipython",
    "version": 3
   },
   "file_extension": ".py",
   "mimetype": "text/x-python",
   "name": "python",
   "nbconvert_exporter": "python",
   "pygments_lexer": "ipython3",
   "version": "3.10.12"
  }
 },
 "nbformat": 4,
 "nbformat_minor": 2
}
